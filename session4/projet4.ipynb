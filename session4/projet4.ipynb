{
 "cells": [
  {
   "cell_type": "markdown",
   "metadata": {},
   "source": [
    "# Projet maison n° 4"
   ]
  },
  {
   "cell_type": "code",
   "execution_count": 1,
   "metadata": {},
   "outputs": [],
   "source": [
    "# imports\n",
    "import requests\n",
    "from bs4 import BeautifulSoup\n",
    "import pandas as pd\n",
    "import html5lib\n",
    "import requests\n",
    "import re"
   ]
  },
  {
   "cell_type": "markdown",
   "metadata": {},
   "source": [
    "**Partie A**\n",
    "\n",
    "Ecrire une fonction `get_prices_from_url()` qui extrait des informations à partir des 2 pages ci-dessous.\n",
    "\n",
    "```python\n",
    "URL_PAGE2 = \"https://kim.fspot.org/cours/page2.html\"\n",
    "URL_PAGE3 = \"https://kim.fspot.org/cours/page3.html\"\n",
    "```\n",
    "\n",
    "Avec `URL_PAGE2`, la fonction doit retourner :\n",
    "\n",
    "```json\n",
    "{'Personal': {'price': '$5', 'storage': '1GB', 'databases': 1},\n",
    " 'Small Business': {'price': '$25', 'storage': '10GB', 'databases': 5},\n",
    " 'Enterprise': {'price': '$45', 'storage': '100GB', 'databases': 25}}\n",
    "```"
   ]
  },
  {
   "cell_type": "code",
   "execution_count": 124,
   "metadata": {},
   "outputs": [],
   "source": [
    "# partie A\n",
    "URL_PAGE2 = \"https://kim.fspot.org/cours/page2.html\"\n",
    "URL_PAGE3 = \"https://kim.fspot.org/cours/page3.html\"\n",
    "\n",
    "def get_prices_from_url(url):\n",
    "    extraction = {}\n",
    "    response = requests.get(url)\n",
    "    if response.status_code != 200:\n",
    "        print('Invalid request: ' + str(r.status_code))\n",
    "        return\n",
    "    \n",
    "    ### get soup\n",
    "    soup = BeautifulSoup(response.content)\n",
    "    \n",
    "    ### Retrieve in arrays all data\n",
    "    h2 = soup.find_all('h2')\n",
    "    price = soup.find_all(\"span\", attrs={'class': 'pricing-table-price'})\n",
    "    \n",
    "    storage, databases = [], []\n",
    "    for li in soup.find_all('li'):\n",
    "        storage.append(re.findall(\"(.*GB|.*TB)\", li.text))\n",
    "        databases.append(re.findall(\"(.*) database\", li.text))\n",
    "    storage = list(filter(None, storage))\n",
    "    databases = list(filter(None, databases))\n",
    "    \n",
    "    ### Build dictionary\n",
    "    prices = {h2[i].text : {'price' : re.findall('\\$[0-9]+', price[i].text)[0],\n",
    "                            'storage' : storage[i][0],\n",
    "                            'databases' : int(databases[i][0])} for i in range(len(h2))}\n",
    "    \n",
    "    \n",
    "    return prices"
   ]
  },
  {
   "cell_type": "code",
   "execution_count": 125,
   "metadata": {},
   "outputs": [
    {
     "data": {
      "text/plain": [
       "{'Personal': {'price': '$5', 'storage': '1GB', 'databases': 1},\n",
       " 'Small Business': {'price': '$25', 'storage': '10GB', 'databases': 5},\n",
       " 'Enterprise': {'price': '$45', 'storage': '100GB', 'databases': 25}}"
      ]
     },
     "execution_count": 125,
     "metadata": {},
     "output_type": "execute_result"
    }
   ],
   "source": [
    "get_prices_from_url(URL_PAGE2)\n"
   ]
  },
  {
   "cell_type": "markdown",
   "metadata": {},
   "source": [
    "**Partie B**\n",
    "\n",
    "*L'abus d'alcool est dangereux pour la santé, à consommer avec modération.*\n",
    "\n",
    "1) Ecrire une fonction `extract_beer_infos()` qui extrait des informations sur une bière du site de bières *beowulf*.\n",
    "\n",
    "Exemple d'URL: https://www.beerwulf.com/fr-fr/p/bieres/cuvee-des-trolls.33 \n",
    "\n",
    "La fonction doit retourner :\n",
    "```json\n",
    "{'Nom': 'Cuvée des Trolls',\n",
    " 'Style': 'Bière Blonde',\n",
    " 'Contenu': 25,\n",
    " 'Degré d’alcool': 7.0,\n",
    " 'Origine': 'Belgique',\n",
    " 'Brasseur': 'Brasserie Dubuisson Freres'}\n",
    "```\n",
    "\n",
    "2) L'URL ci-après retourne un JSON avec une liste de bières :\n",
    "\n",
    "```python\n",
    "URL_BEERLIST_FRANCE = \"https://www.beerwulf.com/fr-FR/api/search/searchProducts?country=France&container=Bouteille\"\n",
    "```\n",
    "\n",
    "Ecrire une fonction `extract_beer_list_infos(url)` qui prend en argument cet URL et retourne les informations sur une liste de bières du site *beowulf*.\n",
    "\n",
    "Cette fonction doit retourner la liste des informations obtenues par la fonction précédemment définie `extract_beer_infos()`.\n",
    "\n",
    "Exemple de retour :\n",
    "\n",
    "```json\n",
    "[{'Nom':'Desperados','Style':'Lager','Contenu':33,'Degré d’alcool':5.9,'Origine':'France','Brasseur':'Desperados'},\n",
    "{'Nom':'La Lager Sans Gluten de Vézelay','Style':'Lager','Contenu':25,'Degré d’alcool':4.0,'Origine':'France','Brasseur':'Brasserie de Vézelay'},\n",
    "{'Nom':'Mélusine Bio','Style':'Pale Ale','Contenu': 33,'Degré d’alcool': 5.0,'Origine':'France','Brasseur':'Mélusine'},\n",
    "{'Nom':'La Parisienne Le Titi Parisien','Style':'IPA','Contenu':33,'Degré d’alcool':5.5,'Origine':'France','Brasseur': 'Brasserie la Parisienne'},\n",
    "{'Nom':'Brasserie De Sutter Brin de Folie','Style':'Bière Blonde','Contenu': 33,'Degré d’alcool':6.5,'Origine':'France','Brasseur':'Brasserie de Sutter'}]\n",
    "```\n",
    "\n",
    "**Facultatif**\n",
    "\n",
    "Chercher comment optimiser cette fonction en utilisant `multiprocessing.Pool()` pour paralléliser les accès web."
   ]
  },
  {
   "cell_type": "code",
   "execution_count": 126,
   "metadata": {},
   "outputs": [],
   "source": [
    "# partie B-1\n",
    "def extract_beer_infos(url):\n",
    "    ### Request\n",
    "    response = requests.get(url)\n",
    "    if response.status_code != 200:\n",
    "        print('Invalid request: ' + str(r.status_code))\n",
    "        return\n",
    "    \n",
    "    ### get soup\n",
    "    soup = BeautifulSoup(response.content)\n",
    "\n",
    "    ### Scrap title and other informations\n",
    "    title = [x.find('h1') for x in soup.find_all(class_='product-detail-info-title')]\n",
    "    infos = soup.find_all('dd', class_=['small-6 medium-9 columns', 'small-6 medium-9 columns js-beer-volume', 'small-6 medium-9 columns js-beer-country'])\n",
    "\n",
    "    ### Fill the dictionary\n",
    "    beer_infos = {\n",
    "        'Nom': title[0].text,\n",
    "        'Style': infos[0].text.replace(\"\\n\", \"\"),\n",
    "        'Contenu': int(re.findall('[0-9]+', infos[1].text)[0]),\n",
    "        'Degré d’alcool': float(infos[2].text.replace(\"%\", \"\").replace(\",\", \".\")),\n",
    "        'Origine': infos[3].text.replace('\\r\\n', '').replace(' ', ''),\n",
    "        'Brasseur': infos[4].text.replace('\\r\\n', '').replace(' ', '')\n",
    "    }\n",
    "    return beer_infos"
   ]
  },
  {
   "cell_type": "code",
   "execution_count": 127,
   "metadata": {},
   "outputs": [
    {
     "data": {
      "text/plain": [
       "{'Nom': 'Maredsous Blonde',\n",
       " 'Style': 'Bière Blonde',\n",
       " 'Contenu': 33,\n",
       " 'Degré d’alcool': 6.0,\n",
       " 'Origine': 'Belgique',\n",
       " 'Brasseur': 'AbbayedeMaredsous'}"
      ]
     },
     "execution_count": 127,
     "metadata": {},
     "output_type": "execute_result"
    }
   ],
   "source": [
    "url = 'https://www.beerwulf.com/fr-fr/p/bieres/maredsous-blonde-bottle-.33?scrollTo=relatedProducts'\n",
    "extract_beer_infos(url)"
   ]
  },
  {
   "cell_type": "code",
   "execution_count": 128,
   "metadata": {},
   "outputs": [],
   "source": [
    "import json\n",
    "\n",
    "# partie B-2\n",
    "URL_BEERLIST_FRANCE = \"https://www.beerwulf.com/fr-FR/api/search/searchProducts?country=France&container=Bouteille\"\n",
    "BASE_URL = \"https://www.beerwulf.com/\"\n",
    "\n",
    "def extract_beer_list_infos(url):\n",
    "    beers = []\n",
    "    \n",
    "    ### Retrieve json content\n",
    "    response = requests.get(url)\n",
    "    json_list_beers = json.loads(response.content)\n",
    "    \n",
    "    ### Retrieve each beer info\n",
    "    for item in json_list_beers.get('items'):\n",
    "        ref = item.get('contentReference')\n",
    "        info = extract_beer_infos(BASE_URL + ref)\n",
    "        beers.append(info)\n",
    "\n",
    "    # Facultatif\n",
    "    # Parallel version (faster):\n",
    "    # beers = []\n",
    "    \n",
    "    return beers"
   ]
  },
  {
   "cell_type": "code",
   "execution_count": 129,
   "metadata": {},
   "outputs": [
    {
     "data": {
      "text/plain": [
       "[{'Nom': 'La Cristal IPA du Mont Blanc',\n",
       "  'Style': 'IPA',\n",
       "  'Contenu': 33,\n",
       "  'Degré d’alcool': 4.7,\n",
       "  'Origine': 'France',\n",
       "  'Brasseur': '\\nMont-Blanc\\n'},\n",
       " {'Nom': 'Ninkasi Pale Ale',\n",
       "  'Style': 'Bière Ambrée',\n",
       "  'Contenu': 33,\n",
       "  'Degré d’alcool': 4.5,\n",
       "  'Origine': 'France',\n",
       "  'Brasseur': '\\nNinkasiFabriques\\n'},\n",
       " {'Nom': 'Desperados',\n",
       "  'Style': 'Lager',\n",
       "  'Contenu': 33,\n",
       "  'Degré d’alcool': 5.9,\n",
       "  'Origine': 'France',\n",
       "  'Brasseur': '\\nDesperados\\n'},\n",
       " {'Nom': 'Pietra',\n",
       "  'Style': 'Lager',\n",
       "  'Contenu': 33,\n",
       "  'Degré d’alcool': 6.0,\n",
       "  'Origine': 'France',\n",
       "  'Brasseur': '\\nBrasseriePietra\\n'}]"
      ]
     },
     "execution_count": 129,
     "metadata": {},
     "output_type": "execute_result"
    }
   ],
   "source": [
    "extract_beer_list_infos(URL_BEERLIST_FRANCE)"
   ]
  },
  {
   "cell_type": "code",
   "execution_count": 130,
   "metadata": {},
   "outputs": [],
   "source": [
    "import unittest\n",
    "\n",
    "class Session4Tests(unittest.TestCase):\n",
    "    def test_01_get_prices_from_url_page2(self):\n",
    "        prices = get_prices_from_url(URL_PAGE2)\n",
    "        # We should have found 3 products:\n",
    "        self.assertIsInstance(prices, dict)\n",
    "        self.assertEqual(len(prices), 3)\n",
    "        self.assertIn('Personal', prices)\n",
    "        self.assertIn('Small Business', prices)\n",
    "        self.assertIn('Enterprise', prices)\n",
    "        \n",
    "        personal = prices['Personal']\n",
    "        self.assertIn('price', personal)\n",
    "        self.assertIn('storage', personal)\n",
    "        self.assertIn('databases', personal)\n",
    "        self.assertEqual(personal['price'], '$5')\n",
    "        self.assertEqual(personal['storage'], '1GB')\n",
    "        self.assertEqual(personal['databases'], 1)\n",
    "        \n",
    "    def test_02_get_prices_from_url_page3(self):\n",
    "        prices = get_prices_from_url(URL_PAGE3)\n",
    "        self.assertIsInstance(prices, dict)\n",
    "        self.assertEqual(len(prices), 4)\n",
    "        self.assertEqual(\n",
    "            prices['Privilege'],\n",
    "            {'databases': 100, 'price': '$99', 'storage': '1TB'}\n",
    "        )\n",
    "    \n",
    "    def test_03_extract_beer_list_infos(self):\n",
    "        infos = extract_beer_list_infos(URL_BEERLIST_FRANCE)\n",
    "        self.assertIsInstance(infos, list)\n",
    "        self.assertGreater(len(infos), 1)\n",
    "        # Contenu = int\n",
    "        # Degré d’alcool = float\n",
    "        for beer in infos:\n",
    "            self.assertIsInstance(beer['Nom'], str)\n",
    "            self.assertIsInstance(beer['Style'], str)\n",
    "            self.assertIsInstance(beer['Contenu'], int)\n",
    "            self.assertIsInstance(beer['Degré d’alcool'], float)\n",
    "            self.assertEqual(beer['Origine'], \"France\")\n",
    "            self.assertIsInstance(beer['Brasseur'], str)\n",
    "\n",
    "            \n",
    "def run_tests():\n",
    "    test_suite = unittest.makeSuite(Session4Tests)\n",
    "    runner = unittest.TextTestRunner(verbosity=2)\n",
    "    runner.run(test_suite)"
   ]
  },
  {
   "cell_type": "code",
   "execution_count": 131,
   "metadata": {},
   "outputs": [
    {
     "name": "stderr",
     "output_type": "stream",
     "text": [
      "test_01_get_prices_from_url_page2 (__main__.Session4Tests) ... ok\n",
      "test_02_get_prices_from_url_page3 (__main__.Session4Tests) ... ok\n",
      "test_03_extract_beer_list_infos (__main__.Session4Tests) ... ok\n",
      "\n",
      "----------------------------------------------------------------------\n",
      "Ran 3 tests in 2.498s\n",
      "\n",
      "OK\n"
     ]
    }
   ],
   "source": [
    "if __name__ == '__main__':\n",
    "    run_tests()"
   ]
  },
  {
   "cell_type": "code",
   "execution_count": null,
   "metadata": {},
   "outputs": [],
   "source": []
  }
 ],
 "metadata": {
  "kernelspec": {
   "display_name": "Python 3 (ipykernel)",
   "language": "python",
   "name": "python3"
  },
  "language_info": {
   "codemirror_mode": {
    "name": "ipython",
    "version": 3
   },
   "file_extension": ".py",
   "mimetype": "text/x-python",
   "name": "python",
   "nbconvert_exporter": "python",
   "pygments_lexer": "ipython3",
   "version": "3.10.4"
  }
 },
 "nbformat": 4,
 "nbformat_minor": 4
}
